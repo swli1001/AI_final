{
  "nbformat": 4,
  "nbformat_minor": 0,
  "metadata": {
    "colab": {
      "name": "SVM.ipynb",
      "provenance": [],
      "authorship_tag": "ABX9TyNGxaUQdy5Gy2huuiaiPY6F",
      "include_colab_link": true
    },
    "kernelspec": {
      "name": "python3",
      "display_name": "Python 3"
    },
    "language_info": {
      "name": "python"
    }
  },
  "cells": [
    {
      "cell_type": "markdown",
      "metadata": {
        "id": "view-in-github",
        "colab_type": "text"
      },
      "source": [
        "<a href=\"https://colab.research.google.com/github/swli1001/AI_final/blob/main/SVM.ipynb\" target=\"_parent\"><img src=\"https://colab.research.google.com/assets/colab-badge.svg\" alt=\"Open In Colab\"/></a>"
      ]
    },
    {
      "cell_type": "code",
      "metadata": {
        "colab": {
          "base_uri": "https://localhost:8080/"
        },
        "id": "zpNBuhzWEqux",
        "outputId": "e4e2fe28-e05b-4280-f6d9-36785605caed"
      },
      "source": [
        "from google.colab import drive\n",
        "drive.mount('/content/gdrive')"
      ],
      "execution_count": null,
      "outputs": [
        {
          "output_type": "stream",
          "text": [
            "Mounted at /content/gdrive\n"
          ],
          "name": "stdout"
        }
      ]
    },
    {
      "cell_type": "code",
      "metadata": {
        "id": "FP9LhQlbE_3x"
      },
      "source": [
        "import numpy as np\n",
        "import pandas as pd\n",
        "from scipy.stats import norm\n",
        "import matplotlib.pyplot as plt\n",
        "from sklearn.naive_bayes import CategoricalNB, GaussianNB\n",
        "from sklearn.neighbors import KNeighborsClassifier\n",
        "from sklearn.model_selection import train_test_split, KFold\n",
        "from sklearn.preprocessing import LabelEncoder\n",
        "from sklearn.metrics import classification_report, plot_confusion_matrix, confusion_matrix\n",
        "from sklearn.utils.multiclass import unique_labels\n",
        "import matplotlib.pyplot as plt\n",
        "\n",
        "from sklearn.svm import SVC\n",
        "from sklearn.preprocessing import StandardScaler\n",
        "from sklearn.metrics import accuracy_score, precision_score, recall_score\n",
        "import math"
      ],
      "execution_count": null,
      "outputs": []
    },
    {
      "cell_type": "code",
      "metadata": {
        "id": "wrZC6uHlPDVh"
      },
      "source": [
        "column_name = ['lt', 'rt', 'l1h', 'l2h', 'l3h', 'l4h', 'l5h', 'r1h', 'r2h', 'r3h', 'r4h',\n",
        "               'r5h', 'l1s1', 'l1s2', 'l2s1', 'l2s2', 'l3s1','l3s2', 'l4s1', 'l4s2', 'l5s1',\n",
        "               'l5s2', 'r1s1', 'r1s2', 'r2s1', 'r2s2', 'r3s1', 'r3s2', 'r4s1', 'r4s2', 'r5s1',\n",
        "               'r5s2', 'l1r0', 'l1r1', 'l1r2', 'l1r3', 'l1r4', 'l1r5', 'l2r0', 'l2r1', 'l2r2',\n",
        "               'l2r3', 'l2r4', 'l2r5', 'l3r0', 'l3r1', 'l3r2', 'l3r3', 'l3r4', 'l3r5', 'l4r0',\n",
        "               'l4r1', 'l4r2', 'l4r3', 'l4r4', 'l4r5', 'l5r0', 'l5r1', 'l5r2', 'l5r3', 'l5r4',\n",
        "               'l5r5', 'r1r0', 'r1r1', 'r1r2', 'r1r3', 'r1r4', 'r1r5', 'r2r0', 'r2r1', 'r2r2',\n",
        "               'r2r3', 'r2r4', 'r2r5', 'r3r0', 'r3r1', 'r3r2', 'r3r3', 'r3r4', 'r3r5', 'r4r0',\n",
        "               'r4r1', 'r4r2', 'r4r3', 'r4r4', 'r4r5', 'r5r0', 'r5r1', 'r5r2', 'r5r3', 'r5r4',\n",
        "               'r5r5', 'winner']\n",
        "data = pd.read_csv(\"/content/gdrive/MyDrive/ai_final/data_altered.csv\", sep=',', names=column_name)\n",
        "\n",
        "data.drop(columns=['l1s1', 'l1s2', 'l2s1', 'l2s2', 'l3s1','l3s2', 'l4s1', 'l4s2', 'l5s1',\n",
        "               'l5s2', 'r1s1', 'r1s2', 'r2s1', 'r2s2', 'r3s1', 'r3s2', 'r4s1', 'r4s2', 'r5s1',\n",
        "               'r5s2', 'l1r0', 'l1r1', 'l1r2', 'l1r3','l1r4', 'l1r5', 'l2r0', 'l2r1', 'l2r2',\n",
        "               'l2r3', 'l2r4', 'l2r5', 'l3r0', 'l3r1', 'l3r2', 'l3r3', 'l3r4', 'l3r5', 'l4r0',\n",
        "               'l4r1', 'l4r2', 'l4r3', 'l4r4', 'l4r5', 'l5r0', 'l5r1', 'l5r2', 'l5r3', 'l5r4',\n",
        "               'l5r5', 'r1r0', 'r1r1', 'r1r2', 'r1r3', 'r1r4', 'r1r5', 'r2r0', 'r2r1', 'r2r2',\n",
        "               'r2r3', 'r2r4', 'r2r5', 'r3r0', 'r3r1', 'r3r2', 'r3r3', 'r3r4', 'r3r5', 'r4r0',\n",
        "               'r4r1', 'r4r2', 'r4r3', 'r4r4', 'r4r5', 'r5r0', 'r5r1', 'r5r2', 'r5r3', 'r5r4',\n",
        "               'r5r5'], inplace=True)\n",
        "\n",
        "#Data Preprocessing 2\n",
        "data2 = data.copy()\n",
        "wintimes_dict = dict()\n",
        "gametimes_dict = dict()\n",
        "hero_wintimes = dict()\n",
        "\n",
        "for i in range(17):\n",
        "    wintimes_dict[str(i)] = 0\n",
        "    gametimes_dict[str(i)] = 0\n",
        "\n",
        "for i in range(100):\n",
        "    hero_wintimes[str(i)] = 0\n",
        "\n",
        "for index, row in data2.iterrows():\n",
        "    gametimes_dict[str(row['lt'])] = gametimes_dict[str(row['lt'])] + 1\n",
        "    gametimes_dict[str(row['rt'])] = gametimes_dict[str(row['rt'])] + 1\n",
        "\n",
        "    if row['winner'] == 1:\n",
        "        wintimes_dict[str(row['lt'])] = wintimes_dict[str(row['lt'])] + 1\n",
        "\n",
        "        hero_wintimes[str(row['l1h'])] = hero_wintimes[str(row['l1h'])] + 1\n",
        "        hero_wintimes[str(row['l2h'])] = hero_wintimes[str(row['l2h'])] + 1\n",
        "        hero_wintimes[str(row['l3h'])] = hero_wintimes[str(row['l3h'])] + 1\n",
        "        hero_wintimes[str(row['l4h'])] = hero_wintimes[str(row['l4h'])] + 1\n",
        "        hero_wintimes[str(row['l5h'])] = hero_wintimes[str(row['l5h'])] + 1\n",
        "\n",
        "    else:\n",
        "        wintimes_dict[str(row['rt'])] = wintimes_dict[str(row['rt'])] + 1\n",
        "\n",
        "        hero_wintimes[str(row['r1h'])] = hero_wintimes[str(row['r1h'])] + 1\n",
        "        hero_wintimes[str(row['r2h'])] = hero_wintimes[str(row['r2h'])] + 1\n",
        "        hero_wintimes[str(row['r3h'])] = hero_wintimes[str(row['r3h'])] + 1\n",
        "        hero_wintimes[str(row['r4h'])] = hero_wintimes[str(row['r4h'])] + 1\n",
        "        hero_wintimes[str(row['r5h'])] = hero_wintimes[str(row['r5h'])] + 1\n",
        "\n",
        "winrate_dict = dict()\n",
        "for i in range(17):\n",
        "    winrate_dict[str(i)] = float(wintimes_dict[str(i)] / gametimes_dict[str(i)])\n",
        "\n",
        "data2 = data2.astype({'lt': float})\n",
        "for index, row in data2.iterrows():\n",
        "    data2.at[index, 'lt'] = float(winrate_dict[str(int(row['lt']))] - winrate_dict[str(int(row['rt']))])\n",
        "\n",
        "    data2.at[index, 'l1h'] = hero_wintimes[str(int(row['l1h']))]\n",
        "    data2.at[index, 'l2h'] = hero_wintimes[str(int(row['l2h']))]\n",
        "    data2.at[index, 'l3h'] = hero_wintimes[str(int(row['l3h']))]\n",
        "    data2.at[index, 'l4h'] = hero_wintimes[str(int(row['l4h']))]\n",
        "    data2.at[index, 'l5h'] = hero_wintimes[str(int(row['l5h']))]\n",
        "\n",
        "    data2.at[index, 'r1h'] = hero_wintimes[str(int(row['r1h']))]\n",
        "    data2.at[index, 'r2h'] = hero_wintimes[str(int(row['r2h']))]\n",
        "    data2.at[index, 'r3h'] = hero_wintimes[str(int(row['r3h']))]\n",
        "    data2.at[index, 'r4h'] = hero_wintimes[str(int(row['r4h']))]\n",
        "    data2.at[index, 'r5h'] = hero_wintimes[str(int(row['r5h']))]\n",
        "data2.drop(columns=['rt'], inplace=True)\n",
        "\n",
        "#Data Preprocessing 3\n",
        "data3 = data.copy()\n",
        "wintimes_dict = dict()\n",
        "gametimes_dict = dict()\n",
        "hero_wintimes = dict()\n",
        "hero_gametimes = dict()\n",
        "\n",
        "for i in range(17):\n",
        "    wintimes_dict[str(i)] = 0\n",
        "    gametimes_dict[str(i)] = 0\n",
        "\n",
        "for i in range(100):\n",
        "    hero_wintimes[str(i)] = 0\n",
        "    hero_gametimes[str(i)] = 0\n",
        "\n",
        "for index, row in data3.iterrows():\n",
        "    gametimes_dict[str(row['lt'])] = gametimes_dict[str(row['lt'])] + 1\n",
        "    gametimes_dict[str(row['rt'])] = gametimes_dict[str(row['rt'])] + 1\n",
        "\n",
        "    hero_gametimes[str(row['l1h'])] = hero_gametimes[str(row['l1h'])] + 1\n",
        "    hero_gametimes[str(row['l2h'])] = hero_gametimes[str(row['l2h'])] + 1\n",
        "    hero_gametimes[str(row['l3h'])] = hero_gametimes[str(row['l3h'])] + 1\n",
        "    hero_gametimes[str(row['l4h'])] = hero_gametimes[str(row['l4h'])] + 1\n",
        "    hero_gametimes[str(row['l5h'])] = hero_gametimes[str(row['l5h'])] + 1\n",
        "\n",
        "    hero_gametimes[str(row['r1h'])] = hero_gametimes[str(row['r1h'])] + 1\n",
        "    hero_gametimes[str(row['r2h'])] = hero_gametimes[str(row['r2h'])] + 1\n",
        "    hero_gametimes[str(row['r3h'])] = hero_gametimes[str(row['r3h'])] + 1\n",
        "    hero_gametimes[str(row['r4h'])] = hero_gametimes[str(row['r4h'])] + 1\n",
        "    hero_gametimes[str(row['r5h'])] = hero_gametimes[str(row['r5h'])] + 1\n",
        "\n",
        "    if row['winner'] == 1:\n",
        "        wintimes_dict[str(row['lt'])] = wintimes_dict[str(row['lt'])] + 1\n",
        "\n",
        "        hero_wintimes[str(row['l1h'])] = hero_wintimes[str(row['l1h'])] + 1\n",
        "        hero_wintimes[str(row['l2h'])] = hero_wintimes[str(row['l2h'])] + 1\n",
        "        hero_wintimes[str(row['l3h'])] = hero_wintimes[str(row['l3h'])] + 1\n",
        "        hero_wintimes[str(row['l4h'])] = hero_wintimes[str(row['l4h'])] + 1\n",
        "        hero_wintimes[str(row['l5h'])] = hero_wintimes[str(row['l5h'])] + 1\n",
        "\n",
        "    else:\n",
        "        wintimes_dict[str(row['rt'])] = wintimes_dict[str(row['rt'])] + 1\n",
        "\n",
        "        hero_wintimes[str(row['r1h'])] = hero_wintimes[str(row['r1h'])] + 1\n",
        "        hero_wintimes[str(row['r2h'])] = hero_wintimes[str(row['r2h'])] + 1\n",
        "        hero_wintimes[str(row['r3h'])] = hero_wintimes[str(row['r3h'])] + 1\n",
        "        hero_wintimes[str(row['r4h'])] = hero_wintimes[str(row['r4h'])] + 1\n",
        "        hero_wintimes[str(row['r5h'])] = hero_wintimes[str(row['r5h'])] + 1\n",
        "\n",
        "\n",
        "winrate_dict = dict()\n",
        "for i in range(17):\n",
        "    winrate_dict[str(i)] = float(wintimes_dict[str(i)] / gametimes_dict[str(i)])\n",
        "\n",
        "hero_winrate = dict()\n",
        "for i in range(100):\n",
        "    if hero_gametimes[str(i)] != 0:\n",
        "        hero_winrate[str(i)] = float(hero_wintimes[str(i)] / hero_gametimes[str(i)])\n",
        "    else:\n",
        "        hero_winrate[str(i)] = 0\n",
        "\n",
        "data3 = data3.astype({'lt': float, 'l1h': float, 'l2h': float, 'l3h': float, 'l4h': float, 'l5h': float,\n",
        "                      'r1h': float, 'r2h': float, 'r3h': float, 'r4h': float, 'r5h': float})\n",
        "data4 = data3.copy()\n",
        "for index, row in data3.iterrows():\n",
        "    data3.at[index, 'lt'] = float(winrate_dict[str(int(row['lt']))] - winrate_dict[str(int(row['rt']))])\n",
        "\n",
        "    data3.at[index, 'l1h'] = float(hero_winrate[str(int(row['l1h']))] - hero_winrate[str(int(row['r1h']))])\n",
        "    data3.at[index, 'l2h'] = float(hero_winrate[str(int(row['l2h']))] - hero_winrate[str(int(row['r2h']))])\n",
        "    data3.at[index, 'l3h'] = float(hero_winrate[str(int(row['l3h']))] - hero_winrate[str(int(row['r3h']))])\n",
        "    data3.at[index, 'l4h'] = float(hero_winrate[str(int(row['l4h']))] - hero_winrate[str(int(row['r4h']))])\n",
        "    data3.at[index, 'l5h'] = float(hero_winrate[str(int(row['l5h']))] - hero_winrate[str(int(row['r5h']))])\n",
        "data3.drop(columns=['rt', 'r1h', 'r2h', 'r3h', 'r4h', 'r5h'], inplace=True)\n",
        "\n",
        "#Data Preprocessing 4\n",
        "num_of_games = 314\n",
        "\n",
        "hero_pickrate = dict()\n",
        "for i in range(100):\n",
        "    hero_pickrate[str(i)] = float(hero_gametimes[str(i)] / 314)\n",
        "\n",
        "for index, row in data4.iterrows():\n",
        "    data4.at[index, 'lt'] = float(winrate_dict[str(int(row['lt']))] - winrate_dict[str(int(row['rt']))])\n",
        "\n",
        "    pickrate_difference = float(hero_pickrate[str(int(row['l1h']))] - hero_pickrate[str(int(row['r1h']))])\n",
        "    data4.at[index, 'l1h'] = float(hero_winrate[str(int(row['l1h']))] - hero_winrate[str(int(row['r1h']))])\n",
        "    data4.at[index, 'r1h'] = pickrate_difference\n",
        "\n",
        "    pickrate_difference = float(hero_pickrate[str(int(row['l2h']))] - hero_pickrate[str(int(row['r2h']))])\n",
        "    data4.at[index, 'l2h'] = float(hero_winrate[str(int(row['l2h']))] - hero_winrate[str(int(row['r2h']))])\n",
        "    data4.at[index, 'r2h'] = pickrate_difference\n",
        "\n",
        "    pickrate_difference = float(hero_pickrate[str(int(row['l3h']))] - hero_pickrate[str(int(row['r3h']))])\n",
        "    data4.at[index, 'l3h'] = float(hero_winrate[str(int(row['l3h']))] - hero_winrate[str(int(row['r3h']))])\n",
        "    data4.at[index, 'r3h'] = pickrate_difference\n",
        "\n",
        "    pickrate_difference = float(hero_pickrate[str(int(row['l4h']))] - hero_pickrate[str(int(row['r4h']))])\n",
        "    data4.at[index, 'l4h'] = float(hero_winrate[str(int(row['l4h']))] - hero_winrate[str(int(row['r4h']))])\n",
        "    data4.at[index, 'r4h'] = pickrate_difference\n",
        "\n",
        "    pickrate_difference = float(hero_pickrate[str(int(row['l5h']))] - hero_pickrate[str(int(row['r5h']))])\n",
        "    data4.at[index, 'l5h'] = float(hero_winrate[str(int(row['l5h']))] - hero_winrate[str(int(row['r5h']))])\n",
        "    data4.at[index, 'r5h'] = pickrate_difference\n",
        "data4.drop(columns=['rt'], inplace=True)"
      ],
      "execution_count": null,
      "outputs": []
    },
    {
      "cell_type": "code",
      "metadata": {
        "id": "yTz06Z0BMjle"
      },
      "source": [
        "def hold_out(data, ratio=0.7, laplace_smoothing=True):\n",
        "    y = data['winner']\n",
        "    x = data.drop('winner', axis=1)\n",
        "    train_x, valid_x, train_y, valid_y = train_test_split(x, y, train_size=ratio)\n",
        "    \n",
        "    sc = StandardScaler()\n",
        "    sc.fit(train_x)\n",
        "    train_x_std = sc.transform(train_x)\n",
        "    valid_x_std = sc.transform(valid_x)\n",
        "\n",
        "    svm = SVC()\n",
        "    fit = svm.fit(train_x_std, train_y)\n",
        "    pred = fit.predict(valid_x_std)\n",
        "\n",
        "    return accuracy_score(valid_y, pred), precision_score(valid_y, pred), recall_score(valid_y, pred)"
      ],
      "execution_count": null,
      "outputs": []
    },
    {
      "cell_type": "code",
      "metadata": {
        "colab": {
          "base_uri": "https://localhost:8080/"
        },
        "id": "wrsmXRvfMw2U",
        "outputId": "2eff7bab-85a3-4532-865c-47d557292563"
      },
      "source": [
        "acc = []\n",
        "pre = []\n",
        "rec = []\n",
        "acc_sum = 0\n",
        "pre_sum = 0\n",
        "rec_sum = 0\n",
        "for i in range(5):\n",
        "  tmp1, tmp2, tmp3 = hold_out(data, laplace_smoothing=False)\n",
        "  acc_sum += tmp1\n",
        "  pre_sum += tmp2\n",
        "  rec_sum += tmp3 \n",
        "  acc.append(tmp1)\n",
        "  pre.append(tmp2)\n",
        "  rec.append(tmp3)\n",
        "\n",
        "acc_avg = acc_sum/5\n",
        "pre_avg = pre_sum/5\n",
        "rec_avg = rec_sum/5\n",
        "\n",
        "acc_sd_sum = 0\n",
        "pre_sd_sum = 0\n",
        "rec_sd_sum = 0\n",
        "for i in range(5):\n",
        "  acc_sd_sum += (acc[i]-acc_avg)*(acc[i]-acc_avg)\n",
        "  pre_sd_sum += (pre[i]-pre_avg)*(pre[i]-pre_avg)\n",
        "  rec_sd_sum += (rec[i]-rec_avg)*(rec[i]-rec_avg)\n",
        "\n",
        "acc_sd = math.sqrt(acc_sd_sum/5)\n",
        "pre_sd = math.sqrt(pre_sd_sum/5)\n",
        "rec_sd = math.sqrt(rec_sd_sum/5)\n",
        "\n",
        "print('acc_avg: {:f}'.format(acc_avg), '  pre_avg: {:f}'.format(pre_avg), '  rec_avg: {:f}'.format(rec_avg))\n",
        "print('acc_sd:  {:f}'.format(acc_sd), '  pre_sd:  {:f}'.format(pre_sd), '  rec_sd:  {:f}'.format(rec_sd))"
      ],
      "execution_count": null,
      "outputs": [
        {
          "output_type": "stream",
          "text": [
            "acc_avg: 0.534737   pre_avg: 0.526221   rec_avg: 0.371283\n",
            "acc_sd:  0.044857   pre_sd:  0.074982   rec_sd:  0.089612\n"
          ],
          "name": "stdout"
        }
      ]
    },
    {
      "cell_type": "code",
      "metadata": {
        "colab": {
          "base_uri": "https://localhost:8080/"
        },
        "id": "udT7sg2GM04i",
        "outputId": "d4b11bc5-8247-4327-8763-0b02849f1455"
      },
      "source": [
        "acc = []\n",
        "pre = []\n",
        "rec = []\n",
        "acc_sum = 0\n",
        "pre_sum = 0\n",
        "rec_sum = 0\n",
        "for i in range(5):\n",
        "  tmp1, tmp2, tmp3 = hold_out(data2, laplace_smoothing=False)\n",
        "  acc_sum += tmp1\n",
        "  pre_sum += tmp2\n",
        "  rec_sum += tmp3 \n",
        "  acc.append(tmp1)\n",
        "  pre.append(tmp2)\n",
        "  rec.append(tmp3)\n",
        "\n",
        "acc_avg = acc_sum/5\n",
        "pre_avg = pre_sum/5\n",
        "rec_avg = rec_sum/5\n",
        "\n",
        "acc_sd_sum = 0\n",
        "pre_sd_sum = 0\n",
        "rec_sd_sum = 0\n",
        "for i in range(5):\n",
        "  acc_sd_sum += (acc[i]-acc_avg)*(acc[i]-acc_avg)\n",
        "  pre_sd_sum += (pre[i]-pre_avg)*(pre[i]-pre_avg)\n",
        "  rec_sd_sum += (rec[i]-rec_avg)*(rec[i]-rec_avg)\n",
        "\n",
        "acc_sd = math.sqrt(acc_sd_sum/5)\n",
        "pre_sd = math.sqrt(pre_sd_sum/5)\n",
        "rec_sd = math.sqrt(rec_sd_sum/5)\n",
        "\n",
        "print('acc_avg: {:f}'.format(acc_avg), '  pre_avg: {:f}'.format(pre_avg), '  rec_avg: {:f}'.format(rec_avg))\n",
        "print('acc_sd:  {:f}'.format(acc_sd), '  pre_sd:  {:f}'.format(pre_sd), '  rec_sd:  {:f}'.format(rec_sd))"
      ],
      "execution_count": null,
      "outputs": [
        {
          "output_type": "stream",
          "text": [
            "acc_avg: 0.600000   pre_avg: 0.564127   rec_avg: 0.557256\n",
            "acc_sd:  0.037067   pre_sd:  0.080604   rec_sd:  0.090288\n"
          ],
          "name": "stdout"
        }
      ]
    },
    {
      "cell_type": "code",
      "metadata": {
        "colab": {
          "base_uri": "https://localhost:8080/"
        },
        "id": "cMb9fD_GM4a9",
        "outputId": "f99e9ef9-12f9-4a90-93f8-e5ee3b01925f"
      },
      "source": [
        "acc = []\n",
        "pre = []\n",
        "rec = []\n",
        "acc_sum = 0\n",
        "pre_sum = 0\n",
        "rec_sum = 0\n",
        "for i in range(5):\n",
        "  tmp1, tmp2, tmp3 = hold_out(data3, laplace_smoothing=False)\n",
        "  acc_sum += tmp1\n",
        "  pre_sum += tmp2\n",
        "  rec_sum += tmp3 \n",
        "  acc.append(tmp1)\n",
        "  pre.append(tmp2)\n",
        "  rec.append(tmp3)\n",
        "\n",
        "acc_avg = acc_sum/5\n",
        "pre_avg = pre_sum/5\n",
        "rec_avg = rec_sum/5\n",
        "\n",
        "acc_sd_sum = 0\n",
        "pre_sd_sum = 0\n",
        "rec_sd_sum = 0\n",
        "for i in range(5):\n",
        "  acc_sd_sum += (acc[i]-acc_avg)*(acc[i]-acc_avg)\n",
        "  pre_sd_sum += (pre[i]-pre_avg)*(pre[i]-pre_avg)\n",
        "  rec_sd_sum += (rec[i]-rec_avg)*(rec[i]-rec_avg)\n",
        "\n",
        "acc_sd = math.sqrt(acc_sd_sum/5)\n",
        "pre_sd = math.sqrt(pre_sd_sum/5)\n",
        "rec_sd = math.sqrt(rec_sd_sum/5)\n",
        "\n",
        "print('acc_avg: {:f}'.format(acc_avg), '  pre_avg: {:f}'.format(pre_avg), '  rec_avg: {:f}'.format(rec_avg))\n",
        "print('acc_sd:  {:f}'.format(acc_sd), '  pre_sd:  {:f}'.format(pre_sd), '  rec_sd:  {:f}'.format(rec_sd))"
      ],
      "execution_count": null,
      "outputs": [
        {
          "output_type": "stream",
          "text": [
            "acc_avg: 0.686316   pre_avg: 0.621335   rec_avg: 0.668483\n",
            "acc_sd:  0.013965   pre_sd:  0.059991   rec_sd:  0.052041\n"
          ],
          "name": "stdout"
        }
      ]
    },
    {
      "cell_type": "code",
      "metadata": {
        "colab": {
          "base_uri": "https://localhost:8080/"
        },
        "id": "9-x-RaM2M5lL",
        "outputId": "880261b7-c90a-4dd6-d561-6aabaff066a0"
      },
      "source": [
        "acc = []\n",
        "pre = []\n",
        "rec = []\n",
        "acc_sum = 0\n",
        "pre_sum = 0\n",
        "rec_sum = 0\n",
        "for i in range(5):\n",
        "  tmp1, tmp2, tmp3 = hold_out(data4, laplace_smoothing=False)\n",
        "  acc_sum += tmp1\n",
        "  pre_sum += tmp2\n",
        "  rec_sum += tmp3 \n",
        "  acc.append(tmp1)\n",
        "  pre.append(tmp2)\n",
        "  rec.append(tmp3)\n",
        "\n",
        "acc_avg = acc_sum/5\n",
        "pre_avg = pre_sum/5\n",
        "rec_avg = rec_sum/5\n",
        "\n",
        "acc_sd_sum = 0\n",
        "pre_sd_sum = 0\n",
        "rec_sd_sum = 0\n",
        "for i in range(5):\n",
        "  acc_sd_sum += (acc[i]-acc_avg)*(acc[i]-acc_avg)\n",
        "  pre_sd_sum += (pre[i]-pre_avg)*(pre[i]-pre_avg)\n",
        "  rec_sd_sum += (rec[i]-rec_avg)*(rec[i]-rec_avg)\n",
        "\n",
        "acc_sd = math.sqrt(acc_sd_sum/5)\n",
        "pre_sd = math.sqrt(pre_sd_sum/5)\n",
        "rec_sd = math.sqrt(rec_sd_sum/5)\n",
        "\n",
        "print('acc_avg: {:f}'.format(acc_avg), '  pre_avg: {:f}'.format(pre_avg), '  rec_avg: {:f}'.format(rec_avg))\n",
        "print('acc_sd:  {:f}'.format(acc_sd), '  pre_sd:  {:f}'.format(pre_sd), '  rec_sd:  {:f}'.format(rec_sd))"
      ],
      "execution_count": null,
      "outputs": [
        {
          "output_type": "stream",
          "text": [
            "acc_avg: 0.667368   pre_avg: 0.636171   rec_avg: 0.636418\n",
            "acc_sd:  0.019523   pre_sd:  0.031294   rec_sd:  0.034759\n"
          ],
          "name": "stdout"
        }
      ]
    }
  ]
}